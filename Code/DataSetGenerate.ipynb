{
 "cells": [
  {
   "cell_type": "code",
   "execution_count": 0,
   "metadata": {
    "colab": {
     "base_uri": "https://localhost:8080/",
     "height": 130
    },
    "colab_type": "code",
    "executionInfo": {
     "elapsed": 2956,
     "status": "error",
     "timestamp": 1592146344168,
     "user": {
      "displayName": "Naman Jaswani",
      "photoUrl": "https://lh3.googleusercontent.com/a-/AOh14GiRIfpajTfHq2m_3jUbojuLMLsfi69FLgt9zTepCU8=s64",
      "userId": "03229110988270559971"
     },
     "user_tz": -330
    },
    "id": "mnXDZKE7IpIM",
    "outputId": "fc89b39c-27a8-49da-84f7-0d83acb9dbf5"
   },
   "outputs": [
    {
     "ename": "IndentationError",
     "evalue": "ignored",
     "output_type": "error",
     "traceback": [
      "\u001b[0;36m  File \u001b[0;32m\"/content/required_functions_for_dataset_generation.py\"\u001b[0;36m, line \u001b[0;32m285\u001b[0m\n\u001b[0;31m    extract_all_coordinates(test)\u001b[0m\n\u001b[0m    ^\u001b[0m\n\u001b[0;31mIndentationError\u001b[0m\u001b[0;31m:\u001b[0m unexpected indent\n"
     ]
    }
   ],
   "source": [
    "# Importing Required functions from another python file\n",
    "\n",
    "from pydrive.auth import GoogleAuth\n",
    "from pydrive.drive import GoogleDrive\n",
    "from google.colab import auth\n",
    "from oauth2client.client import GoogleCredentials\n",
    "\n",
    "auth.authenticate_user()\n",
    "gauth = GoogleAuth()\n",
    "gauth.credentials = GoogleCredentials.get_application_default()\n",
    "drive = GoogleDrive(gauth)\n",
    "\n",
    "your_module = drive.CreateFile({'id':'1dG36VbAyxRbLv_YtZJajotUCvejOJ4e1'})\n",
    "your_module.GetContentFile('required_functions_for_dataset_generation.py')\n",
    "\n",
    "from required_functions_for_dataset_generation import *"
   ]
  },
  {
   "cell_type": "code",
   "execution_count": 0,
   "metadata": {
    "colab": {
     "base_uri": "https://localhost:8080/",
     "height": 238
    },
    "colab_type": "code",
    "executionInfo": {
     "elapsed": 1307,
     "status": "ok",
     "timestamp": 1591892514116,
     "user": {
      "displayName": "Naman Jaswani",
      "photoUrl": "https://lh3.googleusercontent.com/a-/AOh14GiRIfpajTfHq2m_3jUbojuLMLsfi69FLgt9zTepCU8=s64",
      "userId": "03229110988270559971"
     },
     "user_tz": -330
    },
    "id": "gnNFZsHWBJEI",
    "outputId": "39470483-d0a4-4e52-b5fa-f8501fd6ced2"
   },
   "outputs": [
    {
     "name": "stdout",
     "output_type": "stream",
     "text": [
      "CSV already exists...Reading csv to df\n",
      "staring index =  170\n"
     ]
    },
    {
     "data": {
      "text/html": [
       "<div>\n",
       "<style scoped>\n",
       "    .dataframe tbody tr th:only-of-type {\n",
       "        vertical-align: middle;\n",
       "    }\n",
       "\n",
       "    .dataframe tbody tr th {\n",
       "        vertical-align: top;\n",
       "    }\n",
       "\n",
       "    .dataframe thead th {\n",
       "        text-align: right;\n",
       "    }\n",
       "</style>\n",
       "<table border=\"1\" class=\"dataframe\">\n",
       "  <thead>\n",
       "    <tr style=\"text-align: right;\">\n",
       "      <th></th>\n",
       "      <th>atel_num</th>\n",
       "      <th>Sentence</th>\n",
       "      <th>label</th>\n",
       "    </tr>\n",
       "  </thead>\n",
       "  <tbody>\n",
       "    <tr>\n",
       "      <th>0</th>\n",
       "      <td>11119.0</td>\n",
       "      <td>The red circle has a radius of 1\" and is consi...</td>\n",
       "      <td>1.0</td>\n",
       "    </tr>\n",
       "    <tr>\n",
       "      <th>1</th>\n",
       "      <td>11124.0</td>\n",
       "      <td>&lt;span class=\"inner-pre\" style=\"font-size: 13px...</td>\n",
       "      <td>2.0</td>\n",
       "    </tr>\n",
       "    <tr>\n",
       "      <th>2</th>\n",
       "      <td>11128.0</td>\n",
       "      <td>Date | z | Host | Type | Notes Gaia18abb | AT2...</td>\n",
       "      <td>2.0</td>\n",
       "    </tr>\n",
       "    <tr>\n",
       "      <th>3</th>\n",
       "      <td>11129.0</td>\n",
       "      <td>Date | Source | Disc Mag | z | Type | Phase | ...</td>\n",
       "      <td>2.0</td>\n",
       "    </tr>\n",
       "    <tr>\n",
       "      <th>4</th>\n",
       "      <td>11132.0</td>\n",
       "      <td>This nova is located at RA = 5:30:16.77, Dec =...</td>\n",
       "      <td>1.0</td>\n",
       "    </tr>\n",
       "  </tbody>\n",
       "</table>\n",
       "</div>"
      ],
      "text/plain": [
       "   atel_num                                           Sentence  label\n",
       "0   11119.0  The red circle has a radius of 1\" and is consi...    1.0\n",
       "1   11124.0  <span class=\"inner-pre\" style=\"font-size: 13px...    2.0\n",
       "2   11128.0  Date | z | Host | Type | Notes Gaia18abb | AT2...    2.0\n",
       "3   11129.0  Date | Source | Disc Mag | z | Type | Phase | ...    2.0\n",
       "4   11132.0  This nova is located at RA = 5:30:16.77, Dec =...    1.0"
      ]
     },
     "execution_count": 44,
     "metadata": {
      "tags": []
     },
     "output_type": "execute_result"
    }
   ],
   "source": [
    "# DataSet generation\n",
    "\n",
    "data_csv = pd.read_csv('drive/My Drive/StarWords/data_ordered.csv')\n",
    "\n",
    "#filepath of the dataset to be created\n",
    "filepath = '/content/drive/My Drive/StarWords/get_coordinates_data.csv'\n",
    "if os.path.exists(filepath):\n",
    "    print('CSV already exists...Reading csv to df')\n",
    "    df = pd.read_csv(filepath,index_col=0)      # to not read unnamed columns\n",
    "else:\n",
    "    print('CSV does not exist...Creating csv and df')\n",
    "    df = pd.DataFrame(columns=['atel_num','Sentence','label'])  \n",
    "    df.to_csv(filepath , index = False)\n",
    "    df_idx = 0\n",
    "df_idx = df.shape[0]\n",
    "\n",
    "print('staring index = ',df_idx)\n",
    "df.head()"
   ]
  },
  {
   "cell_type": "code",
   "execution_count": 0,
   "metadata": {
    "colab": {},
    "colab_type": "code",
    "id": "_4zvVTjuBXDV"
   },
   "outputs": [],
   "source": [
    "# Script to generate dataset dynamically\n",
    "\n",
    "df['atel_num'] = [int(i) for i in df['atel_num']]\n",
    "\n",
    "for i in range(0, data_csv.shape[0]):\n",
    "    atel_num = data_csv['num'][i]\n",
    "    \n",
    "    if atel_num in df['atel_num'].values:      # updated for repetition of atels from csv\n",
    "        continue\n",
    "    \n",
    "    sentences = my_tokenizer(data_csv['Text processed'][i])\n",
    "       \n",
    "    for sentence in sentences:\n",
    "        # get_coordinates will be replaced by your regex matching function\n",
    "        matches_all = get_coordinates(sentence)\n",
    "\n",
    "        if len( matches_all ) > 0:\n",
    "            print(atel_num)\n",
    "            print_sentence(sentence)\n",
    "            print(\"matches:  \", matches_all )\n",
    "\n",
    "            key = input()\n",
    "            clear_output()\n",
    "            \n",
    "            if key == '2':\n",
    "                break\n",
    "\n",
    "            df.loc[df_idx, 'atel_num'] = int(atel_num)\n",
    "            df.loc[df_idx, 'Sentence'] = sentence\n",
    "            df.loc[df_idx, 'label'] = int(key)\n",
    "            df_idx+=1\n",
    "            \n",
    "    df.to_csv(filepath)"
   ]
  }
 ],
 "metadata": {
  "colab": {
   "collapsed_sections": [],
   "name": "DataSetGenerate.ipynb",
   "provenance": [
    {
     "file_id": "1x_0nKQLHyl9ywqE1Ff6UZgjKicVJ7qn1",
     "timestamp": 1591879687993
    },
    {
     "file_id": "1c7XxSPwIzNCW7F7fhHqTp5_dg00yHIJS",
     "timestamp": 1591805570273
    }
   ]
  },
  "kernelspec": {
   "display_name": "Python 3",
   "language": "python",
   "name": "python3"
  },
  "language_info": {
   "codemirror_mode": {
    "name": "ipython",
    "version": 3
   },
   "file_extension": ".py",
   "mimetype": "text/x-python",
   "name": "python",
   "nbconvert_exporter": "python",
   "pygments_lexer": "ipython3",
   "version": "3.7.3"
  }
 },
 "nbformat": 4,
 "nbformat_minor": 1
}
